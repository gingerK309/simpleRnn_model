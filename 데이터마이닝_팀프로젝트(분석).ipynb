{
 "cells": [
  {
   "cell_type": "code",
   "execution_count": 5,
   "id": "ff1f651a",
   "metadata": {},
   "outputs": [],
   "source": [
    "import pandas as pd \n",
    "import numpy as np\n",
    "import matplotlib\n",
    "import datetime\n",
    "import platform\n",
    "import os\n",
    "\n",
    "if platform.system() == 'Windows': \n",
    "    matplotlib.rc('font', family='Malgun Gothic') #한글 폰트 깨짐 방지\n",
    "covid_data = pd.read_excel('covid19.xlsx',engine='openpyxl')\n",
    "SUM = covid_data.loc[:0,]\n",
    "SUM = SUM.iloc[:,[1,2,3,4]]\n",
    "covid_data = covid_data.iloc[348:,[0,1,2,3,4]]"
   ]
  },
  {
   "cell_type": "code",
   "execution_count": 6,
   "id": "261199c5",
   "metadata": {},
   "outputs": [
    {
     "data": {
      "text/html": [
       "<div>\n",
       "<style scoped>\n",
       "    .dataframe tbody tr th:only-of-type {\n",
       "        vertical-align: middle;\n",
       "    }\n",
       "\n",
       "    .dataframe tbody tr th {\n",
       "        vertical-align: top;\n",
       "    }\n",
       "\n",
       "    .dataframe thead th {\n",
       "        text-align: right;\n",
       "    }\n",
       "</style>\n",
       "<table border=\"1\" class=\"dataframe\">\n",
       "  <thead>\n",
       "    <tr style=\"text-align: right;\">\n",
       "      <th></th>\n",
       "      <th>일자</th>\n",
       "      <th>확진자</th>\n",
       "      <th>국내발생</th>\n",
       "      <th>해외유입</th>\n",
       "      <th>사망</th>\n",
       "    </tr>\n",
       "  </thead>\n",
       "  <tbody>\n",
       "    <tr>\n",
       "      <th>348</th>\n",
       "      <td>2021-01-01 00:00:00</td>\n",
       "      <td>1027</td>\n",
       "      <td>1002</td>\n",
       "      <td>25</td>\n",
       "      <td>17</td>\n",
       "    </tr>\n",
       "    <tr>\n",
       "      <th>349</th>\n",
       "      <td>2021-01-02 00:00:00</td>\n",
       "      <td>820</td>\n",
       "      <td>784</td>\n",
       "      <td>36</td>\n",
       "      <td>25</td>\n",
       "    </tr>\n",
       "    <tr>\n",
       "      <th>350</th>\n",
       "      <td>2021-01-03 00:00:00</td>\n",
       "      <td>657</td>\n",
       "      <td>641</td>\n",
       "      <td>16</td>\n",
       "      <td>20</td>\n",
       "    </tr>\n",
       "    <tr>\n",
       "      <th>351</th>\n",
       "      <td>2021-01-04 00:00:00</td>\n",
       "      <td>1020</td>\n",
       "      <td>986</td>\n",
       "      <td>34</td>\n",
       "      <td>19</td>\n",
       "    </tr>\n",
       "    <tr>\n",
       "      <th>352</th>\n",
       "      <td>2021-01-05 00:00:00</td>\n",
       "      <td>714</td>\n",
       "      <td>672</td>\n",
       "      <td>42</td>\n",
       "      <td>26</td>\n",
       "    </tr>\n",
       "    <tr>\n",
       "      <th>...</th>\n",
       "      <td>...</td>\n",
       "      <td>...</td>\n",
       "      <td>...</td>\n",
       "      <td>...</td>\n",
       "      <td>...</td>\n",
       "    </tr>\n",
       "    <tr>\n",
       "      <th>687</th>\n",
       "      <td>2021-12-06 00:00:00</td>\n",
       "      <td>4324</td>\n",
       "      <td>4295</td>\n",
       "      <td>29</td>\n",
       "      <td>41</td>\n",
       "    </tr>\n",
       "    <tr>\n",
       "      <th>688</th>\n",
       "      <td>2021-12-07 00:00:00</td>\n",
       "      <td>4954</td>\n",
       "      <td>4924</td>\n",
       "      <td>30</td>\n",
       "      <td>64</td>\n",
       "    </tr>\n",
       "    <tr>\n",
       "      <th>689</th>\n",
       "      <td>2021-12-08 00:00:00</td>\n",
       "      <td>7174</td>\n",
       "      <td>7140</td>\n",
       "      <td>34</td>\n",
       "      <td>63</td>\n",
       "    </tr>\n",
       "    <tr>\n",
       "      <th>690</th>\n",
       "      <td>2021-12-09 00:00:00</td>\n",
       "      <td>7102</td>\n",
       "      <td>7082</td>\n",
       "      <td>20</td>\n",
       "      <td>57</td>\n",
       "    </tr>\n",
       "    <tr>\n",
       "      <th>691</th>\n",
       "      <td>2021-12-10 00:00:00</td>\n",
       "      <td>7022</td>\n",
       "      <td>6983</td>\n",
       "      <td>39</td>\n",
       "      <td>53</td>\n",
       "    </tr>\n",
       "  </tbody>\n",
       "</table>\n",
       "<p>344 rows × 5 columns</p>\n",
       "</div>"
      ],
      "text/plain": [
       "                      일자   확진자  국내발생 해외유입  사망\n",
       "348  2021-01-01 00:00:00  1027  1002   25  17\n",
       "349  2021-01-02 00:00:00   820   784   36  25\n",
       "350  2021-01-03 00:00:00   657   641   16  20\n",
       "351  2021-01-04 00:00:00  1020   986   34  19\n",
       "352  2021-01-05 00:00:00   714   672   42  26\n",
       "..                   ...   ...   ...  ...  ..\n",
       "687  2021-12-06 00:00:00  4324  4295   29  41\n",
       "688  2021-12-07 00:00:00  4954  4924   30  64\n",
       "689  2021-12-08 00:00:00  7174  7140   34  63\n",
       "690  2021-12-09 00:00:00  7102  7082   20  57\n",
       "691  2021-12-10 00:00:00  7022  6983   39  53\n",
       "\n",
       "[344 rows x 5 columns]"
      ]
     },
     "execution_count": 6,
     "metadata": {},
     "output_type": "execute_result"
    }
   ],
   "source": [
    "covid_data"
   ]
  },
  {
   "cell_type": "code",
   "execution_count": 7,
   "id": "51dd51fc",
   "metadata": {},
   "outputs": [],
   "source": [
    "covid_data_recent = covid_data.loc[591:]"
   ]
  },
  {
   "cell_type": "code",
   "execution_count": 8,
   "id": "986ddce1",
   "metadata": {},
   "outputs": [],
   "source": [
    "Sep, Oct, Nov, Dec = 0,0,0,0\n",
    "for i in range(591,691):\n",
    "    if i== 591:\n",
    "        Sep=covid_data_recent.loc[i:i+29]\n",
    "    elif i == 621:\n",
    "        Oct = covid_data_recent.loc[i:i+30]\n",
    "    elif i == 651:\n",
    "        Nov = covid_data_recent.loc[i:i+29]\n",
    "    elif i == 682:\n",
    "        Dec = covid_data_recent.loc[i:i+10]"
   ]
  },
  {
   "cell_type": "code",
   "execution_count": 9,
   "id": "d473efb7",
   "metadata": {},
   "outputs": [],
   "source": [
    "import matplotlib.pyplot as plt\n",
    "x_label = ['9월','10월','11월','12월']\n",
    "\n",
    "in_Sep = Sep['국내발생'].sum()\n",
    "in_Oct = Oct['국내발생'].sum()\n",
    "in_Nov = Nov['국내발생'].sum()\n",
    "in_Dec = Dec['국내발생'].sum()\n",
    "\n",
    "out_Sep = Sep['해외유입'].sum()\n",
    "out_Oct = Oct['해외유입'].sum()\n",
    "out_Nov = Nov['해외유입'].sum()\n",
    "out_Dec = Dec['해외유입'].sum()\n",
    "\n",
    "\n",
    "in_Sep_avg = Sep['국내발생'].mean()\n",
    "in_Oct_avg = Oct['국내발생'].mean()\n",
    "in_Nov_avg = Nov['국내발생'].mean()\n",
    "in_Dec_avg = Dec['국내발생'].mean()\n",
    "\n",
    "out_Sep_avg = Sep['해외유입'].mean()\n",
    "out_Oct_avg = Oct['해외유입'].mean()\n",
    "out_Nov_avg = Nov['해외유입'].mean()\n",
    "out_Dec_avg = Dec['해외유입'].mean()"
   ]
  },
  {
   "cell_type": "code",
   "execution_count": 10,
   "id": "7d84dc83",
   "metadata": {},
   "outputs": [
    {
     "data": {
      "text/plain": [
       "Text(0.5, 1.0, '2021년 4분기 월 평균 국내발생 확진자 및 해외유입 확진자')"
      ]
     },
     "execution_count": 10,
     "metadata": {},
     "output_type": "execute_result"
    },
    {
     "data": {
      "image/png": "[encoded data removed]",
      "text/plain": [
       "<Figure size 864x288 with 4 Axes>"
      ]
     },
     "metadata": {
      "needs_background": "light"
     },
     "output_type": "display_data"
    }
   ],
   "source": [
    "fig, ax2 = plt.subplots(figsize=(12,4),ncols=2,nrows=1)\n",
    "fig.subplots_adjust(wspace=0.3)\n",
    "ax2[0].plot(x_label,[in_Sep,in_Oct,in_Nov,in_Dec],marker='o')\n",
    "p1 = ax2[0].twinx()\n",
    "p1.plot(x_label,[out_Sep,out_Oct,out_Nov,out_Dec],color='red',marker='o')\n",
    "ax2[0].set_ylabel('국내발생',color='blue')\n",
    "ax2[0].tick_params(axis='y',labelcolor='blue')\n",
    "p1.set_ylabel('해외유입',color='red')\n",
    "p1.tick_params(axis='y', labelcolor = 'red')\n",
    "ax2[0].set_title('2021년 4분기 누적 국내발생 확진자 및 해외유입 확진자')\n",
    "\n",
    "ax2[1].plot(x_label,[in_Sep_avg,in_Oct_avg,in_Nov_avg,in_Dec_avg],marker='o')\n",
    "p2 = ax2[1].twinx()\n",
    "p2.plot(x_label,[out_Sep_avg,out_Oct_avg,out_Nov_avg,out_Dec_avg],color='red',marker='o')\n",
    "ax2[1].set_ylabel('국내발생',color='blue')\n",
    "ax2[1].tick_params(axis='y',labelcolor='blue')\n",
    "p2.set_ylabel('해외유입',color='red')\n",
    "p2.tick_params(axis='y', labelcolor = 'red')\n",
    "ax2[1].set_title('2021년 4분기 월 평균 국내발생 확진자 및 해외유입 확진자')"
   ]
  },
  {
   "cell_type": "code",
   "execution_count": 11,
   "id": "cc3fe281",
   "metadata": {},
   "outputs": [],
   "source": [
    "Sep_s = Sep['확진자'].sum()\n",
    "Oct_s = Oct['확진자'].sum()\n",
    "Nov_s = Nov['확진자'].sum() \n",
    "Dec_s = Dec['확진자'].sum()\n",
    "\n",
    "Sep_avg = Sep['확진자'].mean()\n",
    "Oct_avg = Oct['확진자'].mean()\n",
    "Nov_avg = Nov['확진자'].mean() \n",
    "Dec_avg = Dec['확진자'].mean()"
   ]
  },
  {
   "cell_type": "code",
   "execution_count": 12,
   "id": "734a7e18",
   "metadata": {},
   "outputs": [
    {
     "name": "stdout",
     "output_type": "stream",
     "text": [
      "9월 확진자: 59860\n",
      "10월 확진자:  53421\n",
      "11월 확진자:  81560\n",
      "12월 확진자:  56383\n"
     ]
    },
    {
     "data": {
      "image/png": "[encoded data removed]",
      "text/plain": [
       "<Figure size 864x360 with 2 Axes>"
      ]
     },
     "metadata": {
      "needs_background": "light"
     },
     "output_type": "display_data"
    }
   ],
   "source": [
    "fig, ax3 = plt.subplots(figsize=(12,5),ncols=2,nrows=1)\n",
    "ax3[0].set_title('2021년 4분기 월 평균 확진자 수')\n",
    "ax3[0].bar(x_label[0],Sep_avg)\n",
    "ax3[0].bar(x_label[1],Oct_avg)\n",
    "ax3[0].bar(x_label[2],Nov_avg)\n",
    "ax3[0].bar(x_label[3],Dec_avg)\n",
    "ax3[0].legend(x_label)\n",
    "\n",
    "ax3[1].set_title('2021년 4분기 누적 확진자 수')\n",
    "ax3[1].bar(x_label[0],Sep_s)\n",
    "ax3[1].bar(x_label[1],Oct_s)\n",
    "ax3[1].bar(x_label[2],Nov_s)\n",
    "ax3[1].bar(x_label[3],Dec_s)\n",
    "ax3[1].legend(x_label)\n",
    "\n",
    "print('9월 확진자:',round(Sep_s))\n",
    "print('10월 확진자: ',round(Oct_s))\n",
    "print('11월 확진자: ',round(Nov_s))\n",
    "print('12월 확진자: ',round(Dec_s))"
   ]
  },
  {
   "cell_type": "code",
   "execution_count": 13,
   "id": "8bb8ddca",
   "metadata": {},
   "outputs": [],
   "source": [
    "Sep_davg = Sep['사망'].mean()\n",
    "Oct_davg = Oct['사망'].mean()\n",
    "Nov_davg = Nov['사망'].mean() \n",
    "Dec_davg = Dec['사망'].mean()\n",
    "\n",
    "Sep_d = Sep['사망'].sum()\n",
    "Oct_d = Oct['사망'].sum()\n",
    "Nov_d = Nov['사망'].sum() \n",
    "Dec_d = Dec['사망'].sum()"
   ]
  },
  {
   "cell_type": "code",
   "execution_count": 14,
   "id": "f4ef658f",
   "metadata": {
    "scrolled": false
   },
   "outputs": [
    {
     "name": "stdout",
     "output_type": "stream",
     "text": [
      "9월 사망자: 196\n",
      "10월 사망자:  368\n",
      "11월 사망자:  750\n",
      "12월 사망자:  506\n"
     ]
    },
    {
     "data": {
      "image/png": "[encoded data removed]",
      "text/plain": [
       "<Figure size 864x360 with 2 Axes>"
      ]
     },
     "metadata": {
      "needs_background": "light"
     },
     "output_type": "display_data"
    }
   ],
   "source": [
    "fig, ax4 = plt.subplots(figsize=(12,5),ncols=2,nrows=1)\n",
    "x_label = ['9월','10월','11월','12월']\n",
    "ax4[0].set_title('2021년 4분기 월 평균 사망자 수')\n",
    "ax4[0].bar(x_label[0],Sep_davg)\n",
    "ax4[0].bar(x_label[1],Oct_davg)\n",
    "ax4[0].bar(x_label[2],Nov_davg)\n",
    "ax4[0].bar(x_label[3],Dec_davg)\n",
    "ax4[0].legend(x_label)\n",
    "\n",
    "ax4[1].set_title('2021년 4분기 사망자 수')\n",
    "ax4[1].bar(x_label[0],Sep_d)\n",
    "ax4[1].bar(x_label[1],Oct_d)\n",
    "ax4[1].bar(x_label[2],Nov_d)\n",
    "ax4[1].bar(x_label[3],Dec_d)\n",
    "ax4[1].legend(x_label)\n",
    "print('9월 사망자:',round(Sep_d))\n",
    "print('10월 사망자: ',round(Oct_d))\n",
    "print('11월 사망자: ',round(Nov_d))\n",
    "print('12월 사망자: ',round(Dec_d))"
   ]
  },
  {
   "cell_type": "code",
   "execution_count": 42,
   "id": "8422f98f",
   "metadata": {},
   "outputs": [
    {
     "name": "stdout",
     "output_type": "stream",
     "text": [
      "국내 코로나 사망자 비율:0.0082\n"
     ]
    }
   ],
   "source": [
    "SUM = SUM.astype('int64')\n",
    "dead_ratio = SUM['사망'].values[0]/SUM['확진자'].values[0]\n",
    "print(f'국내 코로나 사망자 비율:{round(dead_ratio,5)}')"
   ]
  }
 ],
 "metadata": {
  "kernelspec": {
   "display_name": "Python [conda env:datamine]",
   "language": "python",
   "name": "conda-env-datamine-py"
  },
  "language_info": {
   "codemirror_mode": {
    "name": "ipython",
    "version": 3
   },
   "file_extension": ".py",
   "mimetype": "text/x-python",
   "name": "python",
   "nbconvert_exporter": "python",
   "pygments_lexer": "ipython3",
   "version": "3.6.13"
  }
 },
 "nbformat": 4,
 "nbformat_minor": 5
}
